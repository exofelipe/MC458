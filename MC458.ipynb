{
 "cells": [
  {
   "cell_type": "code",
   "execution_count": 7,
   "metadata": {},
   "outputs": [],
   "source": [
    "from math import ceil, floor\n",
    "from random import shuffle"
   ]
  },
  {
   "cell_type": "code",
   "execution_count": 46,
   "metadata": {},
   "outputs": [],
   "source": [
    "def troca(A, i, j):\n",
    "    A[i], A[j] = A[j], A[i]"
   ]
  },
  {
   "cell_type": "markdown",
   "metadata": {},
   "source": [
    "# I-ésimo valor em tempo linear O(n)\n",
    "Calculo de mediana"
   ]
  },
  {
   "cell_type": "code",
   "execution_count": 44,
   "metadata": {},
   "outputs": [],
   "source": [
    "# O ultimo elemento em A é utilizado como pivot\n",
    "# O array no final fica:\n",
    "    # A[0..q] elementos menores que o pivot\n",
    "    # A[q] = pivot\n",
    "    # A[q+1..len(A)] elementos maiores que o pivot\n",
    "def particiona(A):\n",
    "    x = A[-1]\n",
    "    i = 0\n",
    "    j = len(A)-1\n",
    "    while True:\n",
    "        while A[j] > x:\n",
    "            j -= 1\n",
    "        while A[i] < x:\n",
    "            i += 1\n",
    "        if i<j:\n",
    "            troca(A,i,j)\n",
    "        else:\n",
    "            return j"
   ]
  },
  {
   "cell_type": "code",
   "execution_count": 41,
   "metadata": {},
   "outputs": [],
   "source": [
    "# Forma simples de calcular a mediana, ordena e pega o elemento do meio.\n",
    "# No algoritmo tem tempo constante pois todos os arrays aqui serão de tamanho <= 5\n",
    "def mediana(A):\n",
    "    #print(\"Mediana: %s\" % str(A))\n",
    "    aux = A[:]\n",
    "    aux.sort() # Insertion sort, n importa muito\n",
    "    med_inf = aux[floor(len(aux)/2)] # mediana inferior\n",
    "    return med_inf"
   ]
  },
  {
   "cell_type": "code",
   "execution_count": 24,
   "metadata": {},
   "outputs": [],
   "source": [
    "def busca(A, x): # indice do elemento x no vetor A[p..r]\n",
    "    return A.index(x)"
   ]
  },
  {
   "cell_type": "code",
   "execution_count": 49,
   "metadata": {},
   "outputs": [],
   "source": [
    "def select(A, i):\n",
    "    if len(A)==1:\n",
    "        return A[0]\n",
    "    else:\n",
    "        n = ceil(len(A)/5)\n",
    "        B = []\n",
    "        for j in range(0, n):\n",
    "            B.append(mediana(A[5*j: min(5*(j + 1), len(A))])) # B com n <= 5 elementos\n",
    "        \n",
    "        x = select(B, ceil(n/2)-1) # recursivamente, obtem a mediana das medianas\n",
    "        j = busca(A, x) # posição da mediana das medianas\n",
    "\n",
    "        troca(A,j,len(A)-1) # coloca mediana das medianas no final, para ser utilizado de pivot no particiona\n",
    "        q = particiona(A) # particiona A, em resumo, a esquerda ficam os elementos menores que A[r] e a direita os maiores\n",
    "        \n",
    "        if i==q: # verificamos se o pivot encontrado é o i-esimo que queriamos\n",
    "            return x\n",
    "        elif i < q:\n",
    "            return select(A[:q], i)\n",
    "        else:\n",
    "            return select(A[q:], i-q)"
   ]
  },
  {
   "cell_type": "code",
   "execution_count": 54,
   "metadata": {},
   "outputs": [
    {
     "name": "stdout",
     "output_type": "stream",
     "text": [
      "[68, 52, 12, 76, 84, 44, 60, 64, 80, 48, 88, 96, 40, 92, 24, 56, 100, 28, 4, 32, 20, 72, 8, 16, 36]\n",
      "Mediana = 13simo elemento = 52\n",
      "Resultado: 52 \n"
     ]
    }
   ],
   "source": [
    "# Criando um array de 25 elementos, \n",
    "ar = list(range(1,25+1))\n",
    "ar = [x*4 for x in ar]\n",
    "nesimo = floor(len(ar)/2)\n",
    "med = ar[nesimo]\n",
    "shuffle(ar)\n",
    "print(ar)\n",
    "print(\"Mediana = %dsimo elemento = %d\" % (nesimo+1, med))\n",
    "print(\"Resultado: %d \" % select(ar, nesimo))"
   ]
  }
 ],
 "metadata": {
  "kernelspec": {
   "display_name": "Python 3",
   "language": "python",
   "name": "python3"
  },
  "language_info": {
   "codemirror_mode": {
    "name": "ipython",
    "version": 3
   },
   "file_extension": ".py",
   "mimetype": "text/x-python",
   "name": "python",
   "nbconvert_exporter": "python",
   "pygments_lexer": "ipython3",
   "version": "3.6.4"
  }
 },
 "nbformat": 4,
 "nbformat_minor": 2
}
