{
 "cells": [
  {
   "cell_type": "code",
   "execution_count": 17,
   "metadata": {},
   "outputs": [],
   "source": [
    "from math import ceil, floor\n",
    "from random import shuffle"
   ]
  },
  {
   "cell_type": "code",
   "execution_count": 3,
   "metadata": {},
   "outputs": [],
   "source": [
    "def troca(A, i, j):\n",
    "    A[i], A[j] = A[j], A[i]"
   ]
  },
  {
   "cell_type": "code",
   "execution_count": 33,
   "metadata": {},
   "outputs": [],
   "source": [
    "def quicksort(A):\n",
    "    wall = 0\n",
    "    pivot = A[-1]\n",
    "    for i, a in enumerate(A):\n",
    "        if a < pivot:\n",
    "            troca(A, wall, i)\n",
    "            wall += 1\n",
    "            \n",
    "    troca(A, wall, -1)\n",
    "    left = A[:wall]\n",
    "    if len(left) > 0:\n",
    "        left = quicksort(left)\n",
    "    right = A[(wall + 1):]\n",
    "    if len(right) > 0:\n",
    "        right = quicksort(right)\n",
    "    return left + [pivot] + right"
   ]
  },
  {
   "cell_type": "markdown",
   "metadata": {},
   "source": [
    "# I-ésimo valor, em média O(n)\n",
    "Calculo de mediana"
   ]
  },
  {
   "cell_type": "code",
   "execution_count": 4,
   "metadata": {},
   "outputs": [],
   "source": [
    "from random import choice\n",
    "def particiona_aleatorio(A):\n",
    "    x = choice(A)\n",
    "    i = 0\n",
    "    j = len(A)-1\n",
    "    while True:\n",
    "        while A[j] > x:\n",
    "            j -= 1\n",
    "        while A[i] < x:\n",
    "            i += 1\n",
    "        if i<j:\n",
    "            troca(A,i,j)\n",
    "        else:\n",
    "            return j"
   ]
  },
  {
   "cell_type": "code",
   "execution_count": 145,
   "metadata": {},
   "outputs": [],
   "source": [
    "def iesimo_media_linear(A, i):\n",
    "    k = particiona_aleatorio(A)\n",
    "    print(k)\n",
    "    if i==k:\n",
    "        return A[k]\n",
    "    if i<k:\n",
    "        return iesimo_media_linear(A[0:k], i)\n",
    "    if i>k:\n",
    "        return iesimo_media_linear(A[k+1:], i-k-1)"
   ]
  },
  {
   "cell_type": "code",
   "execution_count": 146,
   "metadata": {},
   "outputs": [
    {
     "name": "stdout",
     "output_type": "stream",
     "text": [
      "[44, 104, 156, 196, 40, 184, 100, 52, 80, 164, 24, 48, 188, 112, 60, 8, 4, 152, 192, 96, 120, 168, 160, 172, 148, 200, 180, 20, 84, 76, 144, 88, 124, 128, 32, 176, 132, 12, 140, 36, 16, 108, 92, 116, 56, 64, 72, 136, 68, 28]\n",
      "33\n",
      "9\n",
      "9\n",
      "1\n",
      "4\n",
      "0\n",
      "1\n",
      "0\n",
      "104 == 104\n"
     ]
    }
   ],
   "source": [
    "from random import shuffle\n",
    "arr = [x*4 for x in range(1,51)]\n",
    "median = arr[floor(len(arr)/2)]\n",
    "shuffle(arr)\n",
    "print(arr)\n",
    "print(\"%d == %d?\" % (median, iesimo_media_linear(arr, floor(len(arr)/2))))"
   ]
  },
  {
   "cell_type": "markdown",
   "metadata": {},
   "source": [
    "# I-ésimo valor em tempo linear O(n) mesmo no pior caso\n",
    "Cálculo de mediana"
   ]
  },
  {
   "cell_type": "code",
   "execution_count": 44,
   "metadata": {},
   "outputs": [],
   "source": [
    "# O ultimo elemento em A é utilizado como pivot\n",
    "# O array no final fica:\n",
    "    # A[0..q] elementos menores que o pivot\n",
    "    # A[q] = pivot\n",
    "    # A[q+1..len(A)] elementos maiores que o pivot\n",
    "def particiona(A):\n",
    "    x = A[-1]\n",
    "    i = 0\n",
    "    j = len(A)-1\n",
    "    while True:\n",
    "        while A[j] > x:\n",
    "            j -= 1\n",
    "        while A[i] < x:\n",
    "            i += 1\n",
    "        if i<j:\n",
    "            troca(A,i,j)\n",
    "        else:\n",
    "            return j"
   ]
  },
  {
   "cell_type": "code",
   "execution_count": 41,
   "metadata": {},
   "outputs": [],
   "source": [
    "# Forma simples de calcular a mediana, ordena e pega o elemento do meio.\n",
    "# No algoritmo tem tempo constante pois todos os arrays aqui serão de tamanho <= 5\n",
    "def mediana(A):\n",
    "    #print(\"Mediana: %s\" % str(A))\n",
    "    aux = A[:]\n",
    "    aux.sort() # Insertion sort, n importa muito\n",
    "    med_inf = aux[floor(len(aux)/2)] # mediana inferior\n",
    "    return med_inf"
   ]
  },
  {
   "cell_type": "code",
   "execution_count": 24,
   "metadata": {},
   "outputs": [],
   "source": [
    "def busca(A, x): # indice do elemento x no vetor A[p..r]\n",
    "    return A.index(x)"
   ]
  },
  {
   "cell_type": "code",
   "execution_count": 49,
   "metadata": {},
   "outputs": [],
   "source": [
    "def select(A, i):\n",
    "    if len(A)==1:\n",
    "        return A[0]\n",
    "    else:\n",
    "        n = ceil(len(A)/5)\n",
    "        B = []\n",
    "        for j in range(0, n):\n",
    "            B.append(mediana(A[5*j: min(5*(j + 1), len(A))])) # B com n <= 5 elementos\n",
    "        \n",
    "        x = select(B, ceil(n/2)-1) # recursivamente, obtem a mediana das medianas\n",
    "        j = busca(A, x) # posição da mediana das medianas\n",
    "\n",
    "        troca(A,j,len(A)-1) # coloca mediana das medianas no final, para ser utilizado de pivot no particiona\n",
    "        q = particiona(A) # particiona A, em resumo, a esquerda ficam os elementos menores que A[r] e a direita os maiores\n",
    "        \n",
    "        if i==q: # verificamos se o pivot encontrado é o i-esimo que queriamos\n",
    "            return x\n",
    "        elif i < q:\n",
    "            return select(A[:q], i)\n",
    "        else:\n",
    "            return select(A[q:], i-q)"
   ]
  },
  {
   "cell_type": "code",
   "execution_count": 54,
   "metadata": {},
   "outputs": [
    {
     "name": "stdout",
     "output_type": "stream",
     "text": [
      "[68, 52, 12, 76, 84, 44, 60, 64, 80, 48, 88, 96, 40, 92, 24, 56, 100, 28, 4, 32, 20, 72, 8, 16, 36]\n",
      "Mediana = 13simo elemento = 52\n",
      "Resultado: 52 \n"
     ]
    }
   ],
   "source": [
    "# Criando um array de 25 elementos, \n",
    "ar = list(range(1,25+1))\n",
    "ar = [x*4 for x in ar]\n",
    "nesimo = floor(len(ar)/2)\n",
    "med = ar[nesimo]\n",
    "shuffle(ar)\n",
    "print(ar)\n",
    "print(\"Mediana = %dsimo elemento = %d\" % (nesimo+1, med))\n",
    "print(\"Resultado: %d \" % select(ar, nesimo))"
   ]
  },
  {
   "cell_type": "markdown",
   "metadata": {},
   "source": [
    "# RadixSort"
   ]
  },
  {
   "cell_type": "code",
   "execution_count": 159,
   "metadata": {},
   "outputs": [],
   "source": [
    "# Considere esse counting sort, recebe o array, o valor maximo, e a funcao indice\n",
    "def counting_sort(A, max_value, get_index):\n",
    "    counts = [0] * max_value\n",
    "    # Counting - O(n)\n",
    "    for a in A:\n",
    "        counts[get_index(a)] += 1\n",
    "        \n",
    "    # Accumulating - O(k)\n",
    "    for i, c in enumerate(counts):\n",
    "        if i == 0:\n",
    "            continue\n",
    "        else:\n",
    "            counts[i] += counts[i-1]\n",
    "\n",
    "    # Calculating start index - O(k)\n",
    "    for i, c in enumerate(counts[:-1]):\n",
    "        if i == 0:\n",
    "            counts[i] = 0\n",
    "        counts[i+1] = c\n",
    "\n",
    "    ret = [None] * len(arr)\n",
    "    # Sorting - O(n)\n",
    "    for a in A:\n",
    "        index = counts[get_index(a)]\n",
    "        ret[index] = a\n",
    "        counts[get_index(a)] += 1\n",
    "    return [x for x in ret if x is not None]"
   ]
  },
  {
   "cell_type": "code",
   "execution_count": 160,
   "metadata": {},
   "outputs": [
    {
     "data": {
      "text/plain": [
       "[0, 1, 1, 2, 3, 4, 5, 6]"
      ]
     },
     "execution_count": 160,
     "metadata": {},
     "output_type": "execute_result"
    }
   ],
   "source": [
    "counting_sort([1,0,1,3,2,6,4,5],7,lambda x:x)"
   ]
  },
  {
   "cell_type": "code",
   "execution_count": 29,
   "metadata": {},
   "outputs": [],
   "source": [
    "# Default: Base decimal\n",
    "def get_digit(n, d, base):\n",
    "    for i in range(d-1):\n",
    "        n //= base\n",
    "    return n % base\n",
    "\n",
    "def get_num_difit(n, base):\n",
    "    i = 0\n",
    "    while n > 0:\n",
    "        n //= base\n",
    "        i += 1\n",
    "    return i\n",
    "\n",
    "def radix_sort(A, max_value, base=10): #\n",
    "    num_digits = get_num_difit(max_value, base)\n",
    "    print(num_digits)\n",
    "    # O(k(n+k))\n",
    "    for d in range(num_digits):\n",
    "        # Counting sort takes O(n+k)\n",
    "        arr = counting_sort(A, max_value, lambda a: get_digit(a, d+1, base))\n",
    "    return arr"
   ]
  },
  {
   "cell_type": "code",
   "execution_count": 28,
   "metadata": {},
   "outputs": [],
   "source": [
    "def bucket_sort(A, max_value, n_buckets, get_index, bucket_sorting_function):\n",
    "    buckets = [[]] * n_buckets\n",
    "    \n",
    "    for a in A:\n",
    "        buckets[get_index(a)].append(a)\n",
    "    for index, bucket in enumerate(buckets):\n",
    "        #Using the other sort to sort individual buckets\n",
    "        buckets[index] = bucket_sorting_function(bucket)\n",
    "        \n",
    "    return [a for a in bucket for bucket in buckets]"
   ]
  },
  {
   "cell_type": "markdown",
   "metadata": {},
   "source": [
    "# HeapSort"
   ]
  },
  {
   "cell_type": "code",
   "execution_count": 38,
   "metadata": {},
   "outputs": [
    {
     "name": "stdout",
     "output_type": "stream",
     "text": [
      "[5, 6, 7, 11, 12, 13]\n"
     ]
    }
   ],
   "source": [
    "\n",
    "# Python program for implementation of heap Sort \n",
    "  \n",
    "# To heapify subtree rooted at index i. \n",
    "# n is size of heap \n",
    "def max_heapify(A, n, i): \n",
    "    largest = i # Initialize largest as root \n",
    "    l = 2 * i + 1     # left = 2*i + 1 \n",
    "    r = 2 * i + 2     # right = 2*i + 2 \n",
    "  \n",
    "    # See if left child of root exists and is \n",
    "    # greater than root \n",
    "    if l < n and arr[i] < arr[l]: \n",
    "        largest = l \n",
    "  \n",
    "    # See if right child of root exists and is \n",
    "    # greater than root \n",
    "    if r < n and arr[largest] < arr[r]: \n",
    "        largest = r \n",
    "  \n",
    "    # Change root, if needed \n",
    "    if largest != i: \n",
    "        arr[i],arr[largest] = arr[largest],arr[i] # swap \n",
    "\n",
    "        # Heapify the root. \n",
    "        max_heapify(arr, n, largest) \n",
    "        \n",
    "# The main function to sort an array of given size \n",
    "def heap_sort(A): \n",
    "    n = len(A) \n",
    "  \n",
    "    # Build a maxheap. \n",
    "    for i in range(n, -1, -1): \n",
    "        max_heapify(A, n, i) \n",
    "  \n",
    "    # One by one extract elements \n",
    "    for i in range(n-1, 0, -1): \n",
    "        arr[i], arr[0] = arr[0], arr[i] # swap \n",
    "        max_heapify(A, i, 0) \n",
    "        \n",
    "# Driver code to test above \n",
    "arr = [ 12, 11, 13, 5, 6, 7] \n",
    "heap_sort(arr) \n",
    "print(arr)"
   ]
  },
  {
   "cell_type": "markdown",
   "metadata": {},
   "source": [
    "# MergeSort"
   ]
  },
  {
   "cell_type": "code",
   "execution_count": 149,
   "metadata": {},
   "outputs": [],
   "source": [
    "def merge(llist, rlist):\n",
    "    final = []\n",
    "    while llist or rlist:\n",
    "        if len(llist) and len(rlist):\n",
    "            if llist[0] < rlist[0]:\n",
    "                final.append(llist.pop(0))\n",
    "            else:\n",
    "                final.append(rlist.pop(0))\n",
    "                \n",
    "        if not len(llist):\n",
    "            if len(rlist): \n",
    "                final.append(rlist.pop(0))\n",
    "        if not len(rlist):\n",
    "            if len(llist): \n",
    "                final.append(llist.pop(0))\n",
    "    return final\n",
    " \n",
    "def merge_sort(A):\n",
    "    if len(A) < 2: \n",
    "        return A\n",
    "    mid = floor(len(A) / 2)\n",
    "    return merge(merge_sort(A[:mid]), merge_sort(A[mid:]))"
   ]
  },
  {
   "cell_type": "code",
   "execution_count": 150,
   "metadata": {},
   "outputs": [
    {
     "data": {
      "text/plain": [
       "[0, 12, 31, 51, 123, 123, 123, 123, 124, 243]"
      ]
     },
     "execution_count": 150,
     "metadata": {},
     "output_type": "execute_result"
    }
   ],
   "source": [
    "merge_sort([0,123,123,123,12,31,51,243,124,123])"
   ]
  },
  {
   "cell_type": "markdown",
   "metadata": {},
   "source": [
    "# Mochila"
   ]
  },
  {
   "cell_type": "code",
   "execution_count": 35,
   "metadata": {},
   "outputs": [
    {
     "data": {
      "text/plain": [
       "220"
      ]
     },
     "execution_count": 35,
     "metadata": {},
     "output_type": "execute_result"
    }
   ],
   "source": [
    "def mochila01(V,W,k):\n",
    "    n = len(V)\n",
    "    c = [([0]*220)]*k\n",
    "    for i in range(1,n):\n",
    "        for j in range(0, k+1):\n",
    "            if j>=W[i]:\n",
    "                c[i][j] = max(V[i]+c[i-1][j-W[i]], c[i-1][j])\n",
    "            else:\n",
    "                c[i][j] = c[i-1][j]\n",
    "    return c[n][k]\n",
    "\n",
    "mochila01([60,100,120],[10,20,30],50)"
   ]
  },
  {
   "cell_type": "markdown",
   "metadata": {},
   "source": [
    "\n",
    "# Minimo operações na multiplicação de matrizes"
   ]
  },
  {
   "cell_type": "markdown",
   "metadata": {},
   "source": [
    "## Solução Recursiva"
   ]
  },
  {
   "cell_type": "code",
   "execution_count": 67,
   "metadata": {},
   "outputs": [
    {
     "data": {
      "text/plain": [
       "2200"
      ]
     },
     "execution_count": 67,
     "metadata": {},
     "output_type": "execute_result"
    }
   ],
   "source": [
    "ROW = 0\n",
    "COL = 1\n",
    "def n_operacoes_m(a,b):\n",
    "    return a[ROW] * a[COL] * b[COL]\n",
    "\n",
    "# Isso aqui simplesmente te devolve o tamanho da matriz resultante da multiplicação.\n",
    "# Ex: A(2,3) * B(3,4) * C(4,5) isso irá retornar (2,5)\n",
    "def tamanho_m_cadeia(p): \n",
    "    return p[0][ROW],p[-1][COL]\n",
    "\n",
    "def min_op_multiplicacao(p):\n",
    "    if len(p) == 1:\n",
    "        return 0  # Caso base\n",
    "    return min(\n",
    "        min_op_multiplicacao(p[1:]) + n_operacoes_m(p[0], tamanho_m_cadeia(p[1:])),\n",
    "        min_op_multiplicacao(p[:-1]) + n_operacoes_m(tamanho_m_cadeia(p[:-1]), p[-1])\n",
    "    )\n",
    "min_op_multiplicacao(p=[(10,20),(20,50),(50,1),(1,100)])"
   ]
  },
  {
   "cell_type": "markdown",
   "metadata": {},
   "source": [
    "Problema? repete a mesma operação várias vezes, cada vez que você chama o minMult recursivamente acaba calculando de novo. O negócio é colocar tudo numa tabela boladona.\n",
    "\n",
    "## Solução com programação dinâmica"
   ]
  },
  {
   "cell_type": "code",
   "execution_count": 106,
   "metadata": {},
   "outputs": [
    {
     "name": "stdout",
     "output_type": "stream",
     "text": [
      "[[    0 10000  1200  2200]\n",
      " [   -1     0  1000  3000]\n",
      " [   -1    -1     0  5000]\n",
      " [   -1    -1    -1     0]]\n"
     ]
    },
    {
     "data": {
      "text/plain": [
       "2200"
      ]
     },
     "execution_count": 106,
     "metadata": {},
     "output_type": "execute_result"
    }
   ],
   "source": [
    "def n_operacoes_m(a,b):\n",
    "    return a[ROW] * a[COL] * b[COL]\n",
    "\n",
    "def tamanho_m_cadeia(p):\n",
    "    return p[0][ROW],p[-1][COL]\n",
    "\n",
    "def min_op_multiplicacao(p):\n",
    "    n = len(p)\n",
    "    memo = np.full((n,n), -1) # -1 só para indicar que não foi inicializado, já que vamos colocar uns zeros por ai\n",
    "    \n",
    "    for i in range(0, n):\n",
    "        memo[i][i] = 0\n",
    "        \n",
    "    for j in range(1,n): # coluna por coluna\n",
    "        # vamos percorrer a nossa coluna inteira, partindo do maior indice da linha para o menor (de baixo para cima na tabela)\n",
    "        for i in range(0,j)[::-1]: \n",
    "            memo[i][j] = min(\n",
    "                memo[i][j-1] + n_operacoes_m(tamanho_m_cadeia(p[i:j]), p[j]), # esquerda\n",
    "                memo[i+1][j] + n_operacoes_m(p[i], tamanho_m_cadeia(p[i+1:j+1])) # baixo\n",
    "            )\n",
    "\n",
    "    print(memo)\n",
    "    return memo[0][-1] # último elemento da primeira linha\n",
    "min_op_multiplicacao(p=[(10,20),(20,50),(50,1),(1,100)])"
   ]
  },
  {
   "cell_type": "code",
   "execution_count": null,
   "metadata": {},
   "outputs": [],
   "source": []
  }
 ],
 "metadata": {
  "kernelspec": {
   "display_name": "Python 3",
   "language": "python",
   "name": "python3"
  },
  "language_info": {
   "codemirror_mode": {
    "name": "ipython",
    "version": 3
   },
   "file_extension": ".py",
   "mimetype": "text/x-python",
   "name": "python",
   "nbconvert_exporter": "python",
   "pygments_lexer": "ipython3",
   "version": "3.6.4"
  }
 },
 "nbformat": 4,
 "nbformat_minor": 2
}
